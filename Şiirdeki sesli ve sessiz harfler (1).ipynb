{
 "cells": [
  {
   "cell_type": "code",
   "execution_count": null,
   "metadata": {},
   "outputs": [],
   "source": [
    "satir_sayisi=int(input(\"şiirde kaç satır var?\")) #klavyeden girilecek değer için\n",
    "siir=[] #şiirin içindeki kelimler için öncelikle boş bir dizi oluşturuyoruz"
   ]
  },
  {
   "cell_type": "code",
   "execution_count": null,
   "metadata": {},
   "outputs": [],
   "source": [
    "sesli_harf=0 #Başlangıçta değerleri yok\n",
    "sessiz_harf=0\n",
    "for i in range(satir_sayisi):\n",
    "    satir=input(\"siiri giriniz{}:\".format(i+1))\n",
    "    siir.append(satir)#şiire satırları ekleyelim\n",
    "    sesli_satirlar=0\n",
    "    sessiz_satirlar=0\n",
    "    \n",
    "    for char in satir:#satırların içindeki harfleri dolaşsın\n",
    "        if char.isalpha():\n",
    "            if char in \"aeıioöuü\":#sesli harfler\n",
    "                sesli_harf+=1\n",
    "                else:\n",
    "                    sessiz_harf+=1#sessiz harfler\n",
    "    sesli_satirlar+=sesli_harf#bir satırda kaç sesli harf olduğunu döngü sonunda arttıralım\n",
    "    sessiz_satirlar+=sessiz_harf\n",
    "    print=(\"satir{}:sesli harfler {},sessiz harfler:{}\".format(i+1,sesli_harf,sessiz_harf))#değerleri yazdıralım"
   ]
  },
  {
   "cell_type": "code",
   "execution_count": null,
   "metadata": {},
   "outputs": [],
   "source": [
    "print(\"\\nsesli_satirlar\",sesli_satirlar)\n",
    "print(\"\\nsessiz_satirlar\",sessiz_satirlar)"
   ]
  },
  {
   "cell_type": "code",
   "execution_count": null,
   "metadata": {},
   "outputs": [],
   "source": []
  },
  {
   "cell_type": "code",
   "execution_count": null,
   "metadata": {},
   "outputs": [],
   "source": []
  },
  {
   "cell_type": "code",
   "execution_count": null,
   "metadata": {},
   "outputs": [],
   "source": []
  }
 ],
 "metadata": {
  "kernelspec": {
   "display_name": "Python 3",
   "language": "python",
   "name": "python3"
  },
  "language_info": {
   "codemirror_mode": {
    "name": "ipython",
    "version": 3
   },
   "file_extension": ".py",
   "mimetype": "text/x-python",
   "name": "python",
   "nbconvert_exporter": "python",
   "pygments_lexer": "ipython3",
   "version": "3.8.3"
  }
 },
 "nbformat": 4,
 "nbformat_minor": 4
}
