{
 "cells": [
  {
   "cell_type": "code",
   "execution_count": 5,
   "metadata": {},
   "outputs": [
    {
     "name": "stdout",
     "output_type": "stream",
     "text": [
      "1 den 8 e kadar sütunun değerini giriniz33\n",
      "1 den 8 e kadar satirin değerini giriniz1\n",
      "1 den 8 e kadar sütunun değerini giriniz2\n",
      "1 den 8 e kadar satirin değerini giriniz3\n",
      "Lütfen 1 ile 8 arasında bir değer giriniz\n"
     ]
    }
   ],
   "source": [
    "#Kare bir satranç tahtası düşünün. Kraliçe (veya kraliçe) herhangi bir sayıda hücreyi dikey, yatay ve çapraz olarak hareket ettirebilir. İki karenin koordinatlarına dayanarak, kraliçenin bir hamlede birinciden ikinciye hareket edip edemeyeceğini belirleyin. Eğer yapabilirse, EVET yazdırın. Aksi takdirde, hayır yazdırın. Program 1'den 8'e kadar 4 tam sayı alır. Birincisi ve ikincisi, birinci kare için sütunu ve satırı, ikinci kare için üçüncü ve dördüncüyü verir.\n",
    "\n",
    "sutun1=int(input(\"1 den 8 e kadar sütunun değerini giriniz\"))\n",
    "satir1=int(input(\"1 den 8 e kadar satirin değerini giriniz\"))\n",
    "sutun2=int(input(\"1 den 8 e kadar sütunun değerini giriniz\"))\n",
    "satir2=int(input(\"1 den 8 e kadar satirin değerini giriniz\"))\n",
    "if(sutun1 in range(1,9) and sutun2 in range(1,9) and satir1 in range(1,9) and satir2 in range(1,9)):\n",
    "    if sutun1==sutun2 or satir1==satir2 or abs(sutun1-sutun2)==abs(satir1-satir2):\n",
    "        print( \"evet\")\n",
    "    else:\n",
    "        print( \"hayır\") \n",
    "        \n",
    "else:\n",
    "    print( \"Lütfen 1 ile 8 arasında bir değer giriniz\")"
   ]
  },
  {
   "cell_type": "code",
   "execution_count": null,
   "metadata": {},
   "outputs": [],
   "source": []
  }
 ],
 "metadata": {
  "kernelspec": {
   "display_name": "Python 3",
   "language": "python",
   "name": "python3"
  },
  "language_info": {
   "codemirror_mode": {
    "name": "ipython",
    "version": 3
   },
   "file_extension": ".py",
   "mimetype": "text/x-python",
   "name": "python",
   "nbconvert_exporter": "python",
   "pygments_lexer": "ipython3",
   "version": "3.8.3"
  }
 },
 "nbformat": 4,
 "nbformat_minor": 4
}
